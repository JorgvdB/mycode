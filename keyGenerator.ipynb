{
 "cells": [
  {
   "cell_type": "code",
   "execution_count": 4,
   "id": "78776d0b-665c-4d37-9462-00d36126cd05",
   "metadata": {},
   "outputs": [],
   "source": [
    "import pandas as pd\n",
    "\n",
    "# Your existing dictionary\n",
    "langmsg = {\n",
    "    'BU_PC1129': \"Message 1129\",\n",
    "    'BU_PC1130': \"Message 1130\",\n",
    "    'BU_PC1131': \"Message 1131\",\n",
    "    'BU_PC1132': \"Message 1132\",\n",
    "}\n",
    "\n",
    "# Define the number of new keys you want to add\n",
    "num_new_keys = 500  # You can change this number as needed\n",
    "\n",
    "# Create a new dictionary with adjusted keys\n",
    "new_langmsg = {}\n",
    "start_number = int(list(langmsg.keys())[-1].split('PC')[-1]) + 1\n",
    "\n",
    "for i in range(num_new_keys):\n",
    "    new_number = start_number + i\n",
    "    new_key = f'$langmsg[\\'BU_PC{new_number}\\']'\n",
    "    new_value = f'\"Message {new_number}\"'\n",
    "    new_langmsg[new_key] = new_value\n",
    "\n",
    "# Combine the existing and new dictionaries\n",
    "combined_langmsg = {**langmsg, **new_langmsg}\n",
    "\n",
    "# Convert the dictionary to a DataFrame\n",
    "df = pd.DataFrame(combined_langmsg.items(), columns=['Key', 'Message'])\n",
    "\n",
    "# Export the DataFrame to an Excel file\n",
    "df.to_excel('adjusted_messages2.xlsx', index=False)"
   ]
  },
  {
   "cell_type": "code",
   "execution_count": null,
   "id": "5a66a244-c015-4232-9bb9-cefa0f06f313",
   "metadata": {},
   "outputs": [],
   "source": []
  },
  {
   "cell_type": "code",
   "execution_count": null,
   "id": "5ab16107-2a59-409a-9796-afbdd462caee",
   "metadata": {},
   "outputs": [],
   "source": []
  }
 ],
 "metadata": {
  "kernelspec": {
   "display_name": "Python 3 (ipykernel)",
   "language": "python",
   "name": "python3"
  },
  "language_info": {
   "codemirror_mode": {
    "name": "ipython",
    "version": 3
   },
   "file_extension": ".py",
   "mimetype": "text/x-python",
   "name": "python",
   "nbconvert_exporter": "python",
   "pygments_lexer": "ipython3",
   "version": "3.10.9"
  }
 },
 "nbformat": 4,
 "nbformat_minor": 5
}
